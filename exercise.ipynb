{
 "cells": [
  {
   "cell_type": "markdown",
   "metadata": {},
   "source": [
    "## Object-Relational Mapper exercise\n",
    "## Dorota Gawrońska-Popa\n",
    "\n",
    "\n",
    "---\n",
    "\n",
    "Using relational databases directly in programming languages other than SQL can be tedious and error-prone. One of the common approaches is to use an ORM (object-relational mapper) for that.\n",
    "\n",
    "\n",
    "One of the popular ORMs for Python is SQLAlchemy.\n",
    "\n",
    "https://www.sqlalchemy.org/\n",
    "\n",
    "---\n",
    "\n",
    "For the purpose of the exercise, I will create an in-memory SQLite database:"
   ]
  },
  {
   "cell_type": "code",
   "execution_count": 1,
   "metadata": {},
   "outputs": [
    {
     "name": "stdout",
     "output_type": "stream",
     "text": [
      "Requirement already satisfied: sqlalchemy in /Library/Frameworks/Python.framework/Versions/3.8/lib/python3.8/site-packages (1.4.22)\n",
      "Requirement already satisfied: greenlet!=0.4.17 in /Library/Frameworks/Python.framework/Versions/3.8/lib/python3.8/site-packages (from sqlalchemy) (1.1.0)\n",
      "Note: you may need to restart the kernel to use updated packages.\n"
     ]
    }
   ],
   "source": [
    "#  pip install sqlalchemy"
   ]
  },
  {
   "cell_type": "code",
   "execution_count": 2,
   "metadata": {},
   "outputs": [
    {
     "name": "stdout",
     "output_type": "stream",
     "text": [
      "Requirement already satisfied: pip in /Library/Frameworks/Python.framework/Versions/3.8/lib/python3.8/site-packages (21.2.1)\n",
      "Note: you may need to restart the kernel to use updated packages.\n"
     ]
    }
   ],
   "source": [
    "# pip install --upgrade pip"
   ]
  },
  {
   "cell_type": "code",
   "execution_count": 3,
   "metadata": {},
   "outputs": [],
   "source": [
    "import sqlalchemy as sa\n",
    "from sqlalchemy.ext.declarative import declarative_base\n",
    "from decimal import Decimal\n",
    "import warnings\n",
    "\n",
    "# from sqlalchemy import and_\n",
    "from sqlalchemy import func\n",
    "\n",
    "from sqlalchemy.orm import relationship\n",
    "\n",
    "\n",
    "warnings.filterwarnings(\"ignore\")\n",
    "\n",
    "engine = sa.create_engine('sqlite:///:memory:')\n",
    "Base = declarative_base()\n",
    "session = sa.orm.sessionmaker(bind=engine)()"
   ]
  },
  {
   "cell_type": "markdown",
   "metadata": {},
   "source": [
    "Now, I will create three tables for the exercise:"
   ]
  },
  {
   "cell_type": "code",
   "execution_count": 4,
   "metadata": {},
   "outputs": [],
   "source": [
    "\n",
    "class OrderItem(Base):\n",
    "    __tablename__ = 'order'\n",
    "\n",
    "    id = sa.Column('id', sa.Integer, primary_key=True)\n",
    "    product_id = sa.Column('product_id', sa.Integer, sa.ForeignKey('product.id'))\n",
    "    user_id = sa.Column('user_id', sa.Integer, sa.ForeignKey('user.id'))\n",
    "    qty = sa.Column('qty', sa.Integer)\n",
    "\n",
    "class Product(Base):\n",
    "    __tablename__ = 'product'\n",
    "\n",
    "    id = sa.Column('id', sa.Integer, primary_key=True)\n",
    "    name = sa.Column('name', sa.Text)\n",
    "    price = sa.Column('price', sa.Numeric(14,2))\n",
    "\n",
    "class User(Base):\n",
    "    __tablename__ = 'user'\n",
    "\n",
    "    id = sa.Column('id', sa.Integer, primary_key=True)\n",
    "    first_name = sa.Column('first_name', sa.Text)\n",
    "    last_name = sa.Column('last_name', sa.Text)\n",
    "\n",
    "Base.metadata.create_all(engine)\n",
    "\n",
    "engine.echo = True\n",
    "\n"
   ]
  },
  {
   "cell_type": "markdown",
   "metadata": {},
   "source": [
    "And populate their content with records:"
   ]
  },
  {
   "cell_type": "code",
   "execution_count": 5,
   "metadata": {},
   "outputs": [
    {
     "name": "stdout",
     "output_type": "stream",
     "text": [
      "2021-07-28 14:27:51,901 INFO sqlalchemy.engine.Engine BEGIN (implicit)\n",
      "2021-07-28 14:27:51,904 INFO sqlalchemy.engine.Engine INSERT INTO \"order\" (product_id, user_id, qty) VALUES (?, ?, ?)\n",
      "2021-07-28 14:27:51,904 INFO sqlalchemy.engine.Engine [generated in 0.00082s] (1, 42, 9)\n",
      "2021-07-28 14:27:51,905 INFO sqlalchemy.engine.Engine INSERT INTO \"order\" (product_id, user_id, qty) VALUES (?, ?, ?)\n",
      "2021-07-28 14:27:51,906 INFO sqlalchemy.engine.Engine [cached since 0.002491s ago] (1, 42, 2)\n",
      "2021-07-28 14:27:51,907 INFO sqlalchemy.engine.Engine INSERT INTO \"order\" (product_id, user_id, qty) VALUES (?, ?, ?)\n",
      "2021-07-28 14:27:51,908 INFO sqlalchemy.engine.Engine [cached since 0.003991s ago] (1, 13, 2)\n",
      "2021-07-28 14:27:51,908 INFO sqlalchemy.engine.Engine INSERT INTO \"order\" (product_id, user_id, qty) VALUES (?, ?, ?)\n",
      "2021-07-28 14:27:51,909 INFO sqlalchemy.engine.Engine [cached since 0.005366s ago] (2, 13, 3)\n",
      "2021-07-28 14:27:51,910 INFO sqlalchemy.engine.Engine INSERT INTO \"order\" (product_id, user_id, qty) VALUES (?, ?, ?)\n",
      "2021-07-28 14:27:51,910 INFO sqlalchemy.engine.Engine [cached since 0.006804s ago] (2, 13, 20)\n",
      "2021-07-28 14:27:51,912 INFO sqlalchemy.engine.Engine INSERT INTO product (id, name, price) VALUES (?, ?, ?)\n",
      "2021-07-28 14:27:51,912 INFO sqlalchemy.engine.Engine [generated in 0.00079s] ((1, 'Rabbit', 2.1), (2, 'Parrot', 5.1))\n",
      "2021-07-28 14:27:51,914 INFO sqlalchemy.engine.Engine INSERT INTO user (id, first_name, last_name) VALUES (?, ?, ?)\n",
      "2021-07-28 14:27:51,914 INFO sqlalchemy.engine.Engine [generated in 0.00070s] ((42, 'John', 'Cleese'), (43, 'Eric', 'Idle'), (44, 'Terry', 'Jones'), (13, 'Graham', 'Chapman'))\n",
      "2021-07-28 14:27:51,916 INFO sqlalchemy.engine.Engine COMMIT\n"
     ]
    }
   ],
   "source": [
    "\n",
    "session.add(User(id=42, first_name='John', last_name='Cleese'))\n",
    "session.add(User(id=43, first_name='Eric', last_name='Idle'))\n",
    "session.add(User(id=44, first_name='Terry', last_name='Jones'))\n",
    "session.add(User(id=13, first_name='Graham', last_name='Chapman'))\n",
    "session.add(Product(id=1, price=Decimal('2.10'), name='Rabbit'))\n",
    "session.add(Product(id=2, price=Decimal('5.10'), name='Parrot'))\n",
    "session.add(OrderItem(product_id=1, user_id=42, qty=9))\n",
    "session.add(OrderItem(product_id=1, user_id=42, qty=2))\n",
    "session.add(OrderItem(product_id=1, user_id=13, qty=2))\n",
    "session.add(OrderItem(product_id=2, user_id=13, qty=3))\n",
    "session.add(OrderItem(product_id=2, user_id=13, qty=20))\n",
    "session.commit()"
   ]
  },
  {
   "cell_type": "markdown",
   "metadata": {},
   "source": [
    "---\n",
    "\n",
    "This is how we can pull all `User`s first names from the database:"
   ]
  },
  {
   "cell_type": "code",
   "execution_count": 6,
   "metadata": {},
   "outputs": [
    {
     "name": "stdout",
     "output_type": "stream",
     "text": [
      "2021-07-28 14:27:51,920 INFO sqlalchemy.engine.Engine BEGIN (implicit)\n",
      "2021-07-28 14:27:51,922 INFO sqlalchemy.engine.Engine SELECT user.first_name AS user_first_name \n",
      "FROM user\n",
      "2021-07-28 14:27:51,923 INFO sqlalchemy.engine.Engine [generated in 0.00058s] ()\n"
     ]
    },
    {
     "data": {
      "text/plain": [
       "[('Graham',), ('John',), ('Eric',), ('Terry',)]"
      ]
     },
     "execution_count": 6,
     "metadata": {},
     "output_type": "execute_result"
    }
   ],
   "source": [
    "session.query(User.first_name).all()"
   ]
  },
  {
   "cell_type": "markdown",
   "metadata": {},
   "source": [
    "That corresponds roughly to a `SELECT first_name FROM user` in SQL terms."
   ]
  },
  {
   "cell_type": "code",
   "execution_count": 7,
   "metadata": {},
   "outputs": [
    {
     "name": "stdout",
     "output_type": "stream",
     "text": [
      "2021-07-28 14:27:51,937 INFO sqlalchemy.engine.Engine SELECT user.first_name AS user_first_name \n",
      "FROM user \n",
      "WHERE user.id > ?\n",
      "2021-07-28 14:27:51,938 INFO sqlalchemy.engine.Engine [generated in 0.00075s] (15,)\n"
     ]
    },
    {
     "data": {
      "text/plain": [
       "[('John',), ('Eric',), ('Terry',)]"
      ]
     },
     "execution_count": 7,
     "metadata": {},
     "output_type": "execute_result"
    }
   ],
   "source": [
    "session.query(User.first_name).filter(User.id > 15).all()"
   ]
  },
  {
   "cell_type": "markdown",
   "metadata": {},
   "source": [
    "That corresponds roughly to a `SELECT first_name FROM user WHERE ...` in SQL terms."
   ]
  },
  {
   "cell_type": "markdown",
   "metadata": {},
   "source": [
    "---\n",
    "## Exercise 1.\n",
    "\n",
    "Taking the database from the example above, can you write ONE sqlalchemy query that will create an outer join on `Users`, `OrderItems` and `Products` that return the `last_name`, `qty` and `name` from the corresponding tables ?\n",
    "\n",
    "The expected result should look like this:"
   ]
  },
  {
   "cell_type": "code",
   "execution_count": 8,
   "metadata": {
    "tags": []
   },
   "outputs": [
    {
     "name": "stdout",
     "output_type": "stream",
     "text": [
      "2021-07-28 14:27:51,946 INFO sqlalchemy.engine.Engine SELECT user.id AS user_id, user.first_name AS user_first_name, user.last_name AS user_last_name, \"order\".id AS order_id, \"order\".product_id AS order_product_id, \"order\".user_id AS order_user_id, \"order\".qty AS order_qty, product.id AS product_id, product.name AS product_name, product.price AS product_price \n",
      "FROM user LEFT OUTER JOIN \"order\" ON user.id = \"order\".user_id JOIN product ON product.id = \"order\".product_id\n",
      "2021-07-28 14:27:51,947 INFO sqlalchemy.engine.Engine [generated in 0.00074s] ()\n",
      "Cleese 9 Rabbit\n",
      "Cleese 2 Rabbit\n",
      "Chapman 2 Rabbit\n",
      "Chapman 3 Parrot\n",
      "Chapman 20 Parrot\n"
     ]
    }
   ],
   "source": [
    "# First query \n",
    "sq = session.query(User, OrderItem, Product). \\\n",
    "    select_from(User).outerjoin(OrderItem).join(Product).all()\n",
    "\n",
    "for user, order, product in sq:\n",
    "    print(user.last_name, order.qty, product.name)"
   ]
  },
  {
   "cell_type": "code",
   "execution_count": 9,
   "metadata": {},
   "outputs": [
    {
     "name": "stdout",
     "output_type": "stream",
     "text": [
      "2021-07-28 14:27:51,953 INFO sqlalchemy.engine.Engine SELECT user.id AS user_id, user.first_name AS user_first_name, user.last_name AS user_last_name, \"order\".id AS order_id, \"order\".product_id AS order_product_id, \"order\".user_id AS order_user_id, \"order\".qty AS order_qty, product.id AS product_id, product.name AS product_name, product.price AS product_price \n",
      "FROM user LEFT OUTER JOIN \"order\" ON user.id = \"order\".user_id JOIN product ON product.id = \"order\".product_id\n",
      "2021-07-28 14:27:51,954 INFO sqlalchemy.engine.Engine [cached since 0.007942s ago] ()\n",
      "Cleese 9 Rabbit\n",
      "Cleese 2 Rabbit\n",
      "Chapman 2 Rabbit\n",
      "Chapman 3 Parrot\n",
      "Chapman 20 Parrot\n"
     ]
    }
   ],
   "source": [
    "# ONE query\n",
    "for user, order, product in session.query(User, OrderItem, Product). \\\n",
    "    select_from(User).outerjoin(OrderItem).join(Product).all():\n",
    "    \n",
    "    print(user.last_name, order.qty, product.name) "
   ]
  },
  {
   "cell_type": "code",
   "execution_count": 10,
   "metadata": {},
   "outputs": [
    {
     "name": "stdout",
     "output_type": "stream",
     "text": [
      "SELECT user.last_name AS \"User Last Name\", \"order\".qty AS \"Quantity\", product.name AS \"Product Name\" \n",
      "FROM user LEFT OUTER JOIN \"order\" ON user.id = \"order\".user_id LEFT OUTER JOIN product ON product.id = \"order\".product_id\n"
     ]
    }
   ],
   "source": [
    "# Another way\n",
    "print(session.query(User.last_name.label('User Last Name'),\n",
    "                   OrderItem.qty.label('Quantity'),\n",
    "                   Product.name.label('Product Name')). \\\n",
    "    select_from(User).outerjoin(OrderItem).outerjoin(Product))"
   ]
  },
  {
   "cell_type": "code",
   "execution_count": 11,
   "metadata": {},
   "outputs": [
    {
     "name": "stdout",
     "output_type": "stream",
     "text": [
      "SELECT user.last_name AS \"User Last Name\", \"order\".qty AS \"Quantity\", product.name AS \"Product Name\" \n",
      "FROM user LEFT OUTER JOIN \"order\" ON \"order\".user_id = user.id LEFT OUTER JOIN product ON product.id = user.id\n"
     ]
    }
   ],
   "source": [
    "# And other ONE guery\n",
    "print(session.query(User.last_name.label('User Last Name'),\n",
    "                    OrderItem.qty.label('Quantity'),\n",
    "                    Product.name.label('Product Name')) \\\n",
    "    .outerjoin(OrderItem, OrderItem.user_id == User.id) \\\n",
    "    .outerjoin(Product, Product.id == User.id))"
   ]
  },
  {
   "cell_type": "markdown",
   "metadata": {},
   "source": [
    "---\n",
    "## Exercise 2.\n",
    "\n",
    "Taking the database from the example above, can you write ONE sqlalchemy query that will create an aggregated result from the query above (sum the products of qty and price accordingly) calculating the value of purchases (grouping) per `User` ? \n",
    "\n",
    "The expected result should look like this:"
   ]
  },
  {
   "cell_type": "code",
   "execution_count": 12,
   "metadata": {
    "tags": []
   },
   "outputs": [
    {
     "name": "stdout",
     "output_type": "stream",
     "text": [
      "SELECT user.last_name AS \"User Last Name\", \"order\".id AS \"Order Id\", product.name AS \"Product Name\", product.price AS \"Product Price\", sum(\"order\".qty) AS \"Quantity Sum\" \n",
      "FROM \"order\" LEFT OUTER JOIN product ON product.id = \"order\".product_id LEFT OUTER JOIN user ON user.id = \"order\".user_id GROUP BY \"order\".user_id\n"
     ]
    }
   ],
   "source": [
    "print(session.query(User.last_name.label('User Last Name'),\n",
    "                    OrderItem.id.label('Order Id'),\n",
    "                    Product.name.label('Product Name'),\n",
    "                    Product.price.label('Product Price'),\n",
    "                    func.sum(OrderItem.qty).label('Quantity Sum')) \\\n",
    "      .outerjoin(Product).outerjoin(User).group_by(OrderItem.user_id))"
   ]
  },
  {
   "cell_type": "code",
   "execution_count": 13,
   "metadata": {},
   "outputs": [
    {
     "name": "stdout",
     "output_type": "stream",
     "text": [
      "SELECT user.last_name AS \"User Last Name\", \"order\".qty AS \"Quantity\", \"order\".id AS \"Order Id\", product.price AS \"Product Price\", product.name AS \"Product Name\", sum(\"order\".qty) AS \"Quantity Sum\" \n",
      "FROM user LEFT OUTER JOIN \"order\" ON user.id = \"order\".user_id LEFT OUTER JOIN product ON product.id = \"order\".product_id GROUP BY \"order\".user_id\n"
     ]
    }
   ],
   "source": [
    "print(session.query(User.last_name.label('User Last Name'),\n",
    "                    OrderItem.qty.label('Quantity'),\n",
    "                    OrderItem.id.label('Order Id'),\n",
    "                    Product.price.label('Product Price'),\n",
    "                    Product.name.label('Product Name'),\n",
    "                    func.sum(OrderItem.qty).label('Quantity Sum')). \\\n",
    "    select_from(User).outerjoin(OrderItem).outerjoin(Product).group_by(OrderItem.user_id))"
   ]
  },
  {
   "cell_type": "code",
   "execution_count": 14,
   "metadata": {},
   "outputs": [
    {
     "name": "stdout",
     "output_type": "stream",
     "text": [
      "SELECT user.last_name AS \"User Last Name\", user.id AS \"User Id\", \"order\".qty AS \"Quantity\", \"order\".id AS \"Order Id\", product.price AS \"Product Price\", product.name AS \"Product Name\", sum(\"order\".qty) AS \"Quantity Sum\" \n",
      "FROM user LEFT OUTER JOIN \"order\" ON \"order\".user_id = user.id LEFT OUTER JOIN product ON product.id = user.id GROUP BY \"order\".user_id\n"
     ]
    }
   ],
   "source": [
    "print(session.query(User.last_name.label('User Last Name'),\n",
    "              User.id.label('User Id'),\n",
    "              OrderItem.qty.label('Quantity'),\n",
    "              OrderItem.id.label('Order Id'),\n",
    "              Product.price.label('Product Price'),\n",
    "              Product.name.label('Product Name'),\n",
    "              func.sum(OrderItem.qty).label('Quantity Sum')) \\\n",
    "            .outerjoin(OrderItem, OrderItem.user_id == User.id) \\\n",
    "            .outerjoin(Product, Product.id == User.id).group_by(OrderItem.user_id))"
   ]
  },
  {
   "cell_type": "code",
   "execution_count": null,
   "metadata": {},
   "outputs": [],
   "source": []
  }
 ],
 "metadata": {
  "kernelspec": {
   "display_name": "Python 3",
   "language": "python",
   "name": "python3"
  },
  "language_info": {
   "codemirror_mode": {
    "name": "ipython",
    "version": 3
   },
   "file_extension": ".py",
   "mimetype": "text/x-python",
   "name": "python",
   "nbconvert_exporter": "python",
   "pygments_lexer": "ipython3",
   "version": "3.8.5"
  }
 },
 "nbformat": 4,
 "nbformat_minor": 4
}